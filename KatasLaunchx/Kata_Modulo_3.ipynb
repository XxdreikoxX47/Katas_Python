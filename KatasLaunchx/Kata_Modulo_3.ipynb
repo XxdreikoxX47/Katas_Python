{
 "cells": [
  {
   "cell_type": "markdown",
   "metadata": {},
   "source": [
    "Escribir declaraciones if, else y elif "
   ]
  },
  {
   "cell_type": "markdown",
   "metadata": {},
   "source": [
    "Ejercicio Número 1 "
   ]
  },
  {
   "cell_type": "code",
   "execution_count": 6,
   "metadata": {},
   "outputs": [
    {
     "name": "stdout",
     "output_type": "stream",
     "text": [
      "Advertencia! el asteroide arrebasa el limite de velocidad, se suegiere su destruccion inmediata.\n"
     ]
    }
   ],
   "source": [
    "ast = 49\n",
    "lim = 25 \n",
    "if ast > lim:\n",
    "    print(\"Advertencia! el asteroide arrebasa el limite de velocidad, se suegiere su destruccion inmediata.\")\n",
    "else:\n",
    "    print(\"El asteroide no representa ningun riesgo, velocidad normal en orbita.\")"
   ]
  },
  {
   "cell_type": "markdown",
   "metadata": {},
   "source": [
    "Ejercicio Número 2"
   ]
  },
  {
   "cell_type": "code",
   "execution_count": 13,
   "metadata": {},
   "outputs": [
    {
     "name": "stdout",
     "output_type": "stream",
     "text": [
      "¡No pasa nada oiga!\n"
     ]
    }
   ],
   "source": [
    "ast = 19\n",
    "lim = 20\n",
    "if ast > lim:\n",
    "    print(\"Un asteroide esta entrando en la atmosfera del planeta tierra, se podra observar un rayos de luz en el cielo y como murieron los DINOSAURIOS JSJSJS\")\n",
    "elif ast== lim: \n",
    "    print(\"Un asteroide esta entrando en la atmosfera del planeta tierra, se podra observar un rayos de luz en el cielo y como murieron los DINOSAURIOS JSJSJS\")\n",
    "else :\n",
    "    print(\"¡No pasa nada oiga!\")\n"
   ]
  },
  {
   "cell_type": "markdown",
   "metadata": {},
   "source": [
    "Ejercicio Número 3\n"
   ]
  },
  {
   "cell_type": "code",
   "execution_count": 64,
   "metadata": {},
   "outputs": [
    {
     "name": "stdout",
     "output_type": "stream",
     "text": [
      "Se puede observa una luz en el cielo! \n"
     ]
    }
   ],
   "source": [
    "lim = 25\n",
    "tam = 25\n",
    "\n",
    "if lim >25 and tam >25 :\n",
    "    print(\"Advertencia! el asteroide arrebasa el limite de velocidad, es muy peligroso y se aproxima hacia la tierra.\")\n",
    "elif lim >= 20:\n",
    "    print(\"Se puede observa una luz en el cielo! \")\n",
    "elif tam > 25:\n",
    "    print(\"¡El ateroide causara daños!\")\n",
    "else:\n",
    "    print(\"¡No pasa nada oiga!\")\n"
   ]
  }
 ],
 "metadata": {
  "interpreter": {
   "hash": "defcd3ea546e3c7826e77f68eb8dd98b7c9af5e3814c9109b1c0af9fedb8d3ed"
  },
  "kernelspec": {
   "display_name": "Python 3.10.2 64-bit",
   "language": "python",
   "name": "python3"
  },
  "language_info": {
   "codemirror_mode": {
    "name": "ipython",
    "version": 3
   },
   "file_extension": ".py",
   "mimetype": "text/x-python",
   "name": "python",
   "nbconvert_exporter": "python",
   "pygments_lexer": "ipython3",
   "version": "3.10.2"
  },
  "orig_nbformat": 4
 },
 "nbformat": 4,
 "nbformat_minor": 2
}
