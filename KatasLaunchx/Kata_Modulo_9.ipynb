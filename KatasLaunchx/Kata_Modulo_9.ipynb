{
 "cells": [
  {
   "cell_type": "markdown",
   "metadata": {},
   "source": [
    "Ejercicio 1"
   ]
  },
  {
   "cell_type": "markdown",
   "metadata": {},
   "source": [
    "Trabajar con argumentos en funcones"
   ]
  },
  {
   "cell_type": "code",
   "execution_count": null,
   "metadata": {},
   "outputs": [],
   "source": [
    "def reporte(tanque_1, Tanque_2, Tanque_3):\n",
    "    total = (tanque_1 + Tanque_2 + Tanque_3) / 3\n",
    "    return f\"\"\"Reporte de los tanques de conbustible:\n",
    "    Total: {total}%\n",
    "    Tanque 1: {tanque_1}%\n",
    "    Tanque 2: {Tanque_2}%\n",
    "    Tanque 3: {Tanque_3}% \"\"\"\n",
    "\n",
    "print(reporte(80, 70, 85))\n",
    "\n",
    "\n",
    "def promedio(values):\n",
    "    total_1= sum(values)\n",
    "    artc= len(values)\n",
    "    return total_1/ artc\n",
    "\n",
    "promedio([80,85,81])\n",
    "\n",
    "\n",
    "def reporte(tanque_1, Tanque_2, Tanque_3):\n",
    "    return f\"\"\"Actualizacion del reporte de los tanques de conbustible:\n",
    "    total = {promedio([tanque_1 + Tanque_2 + Tanque_3])}%\n",
    "    Tanque 1: {tanque_1}%\n",
    "    Tanque 2: {Tanque_2}%\n",
    "    Tanque 3: {Tanque_3}% \"\"\"\n",
    "\n",
    "print(reporte(88, 76, 70))"
   ]
  },
  {
   "cell_type": "markdown",
   "metadata": {},
   "source": [
    "Ejercicio 2\n"
   ]
  },
  {
   "cell_type": "markdown",
   "metadata": {},
   "source": [
    "Trabajar con argumentos de palabras clave en funciones"
   ]
  },
  {
   "cell_type": "code",
   "execution_count": 12,
   "metadata": {},
   "outputs": [
    {
     "name": "stdout",
     "output_type": "stream",
     "text": [
      "\n",
      "    Tu destino es: Moon\n",
      "    Tiempo total del viaje: 65 minutes\n",
      "    Conbustible sobrante: 500000 gallons\n",
      "\n",
      "    Tu destino es: Moon\n",
      "    Tiempo total del viaje: 76 minutes\n",
      "    Conbustible sobrante: 500000\n",
      "\n",
      "    Tu destino es: Moon\n",
      "    Tiempo total del viaje: 74 minutes\n",
      "    Conbustible sobrante: 500000T1 300000 galones sobrantes: \n",
      "T2 200000 galones sobrantes: \n",
      "\n"
     ]
    }
   ],
   "source": [
    "def reporte(Hora_de_lanzamiento, tiempo_de_vuelo, destino, tanque_1, tanque_2):\n",
    "    return f\"\"\"\n",
    "    Tu destino es: {destino}\n",
    "    Tiempo total del viaje: {Hora_de_lanzamiento + tiempo_de_vuelo} minutes\n",
    "    Conbustible sobrante: {tanque_2+ tanque_1} gallons\"\"\"\n",
    "\n",
    "print(reporte(14, 51, \"Moon\", 200000, 300000))\n",
    "\n",
    "\n",
    "def reporte(destino, *minutos, **reserva_combustible):\n",
    "    return f\"\"\"\n",
    "    Tu destino es: {destino}\n",
    "    Tiempo total del viaje: {sum(minutos)} minutes\n",
    "    Conbustible sobrante: {sum(reserva_combustible.values())}\"\"\"\n",
    "\n",
    "print(reporte(\"Moon\", 10, 15, 51, tanque_1=300000, Tanque_2=200000))\n",
    "\n",
    "\n",
    "def reporte(destino, *minutos, **reserva_combustible):\n",
    "    reporte_1 = f\"\"\"\n",
    "    Tu destino es: {destino}\n",
    "    Tiempo total del viaje: {sum(minutos)} minutes\n",
    "    Conbustible sobrante: {sum(reserva_combustible.values())}\"\"\"\n",
    "\n",
    "\n",
    "    for tanque, galones in reserva_combustible.items():\n",
    "        reporte_1 += f\"{tanque} {galones} galones sobrantes: \\n\"\n",
    "    return reporte_1\n",
    "\n",
    "print(reporte(\"Moon\", 8, 11, 55, T1=300000, T2=200000))\n"
   ]
  }
 ],
 "metadata": {
  "interpreter": {
   "hash": "17af53843ba9c57751d71de7a9b06d6ca0b05744b6a8382ac52b67b2873fa758"
  },
  "kernelspec": {
   "display_name": "Python 3.9.10 64-bit (windows store)",
   "language": "python",
   "name": "python3"
  },
  "language_info": {
   "codemirror_mode": {
    "name": "ipython",
    "version": 3
   },
   "file_extension": ".py",
   "mimetype": "text/x-python",
   "name": "python",
   "nbconvert_exporter": "python",
   "pygments_lexer": "ipython3",
   "version": "3.9.10"
  },
  "orig_nbformat": 4
 },
 "nbformat": 4,
 "nbformat_minor": 2
}
