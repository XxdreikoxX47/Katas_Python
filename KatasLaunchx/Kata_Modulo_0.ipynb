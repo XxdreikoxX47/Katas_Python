{
 "cells": [
  {
   "cell_type": "markdown",
   "metadata": {},
   "source": [
    "Ejercicio 1"
   ]
  },
  {
   "cell_type": "markdown",
   "metadata": {},
   "source": [
    "Crea y ejecuta tu notebook\n"
   ]
  },
  {
   "cell_type": "code",
   "execution_count": 4,
   "metadata": {},
   "outputs": [
    {
     "data": {
      "application/vnd.jupyter.widget-view+json": {
       "model_id": "a612b7696d274d3090d3a6a0b19f9d2e",
       "version_major": 2,
       "version_minor": 0
      },
      "text/plain": [
       "ToggleButton(value=False, button_style='success', description='Iniciar Launch', icon='rocket', tooltip='Engage…"
      ]
     },
     "metadata": {},
     "output_type": "display_data"
    },
    {
     "data": {
      "application/vnd.jupyter.widget-view+json": {
       "model_id": "f9773c4b117744a0be2606fcca451f87",
       "version_major": 2,
       "version_minor": 0
      },
      "text/plain": [
       "Output()"
      ]
     },
     "metadata": {},
     "output_type": "display_data"
    }
   ],
   "source": [
    "\n",
    "\n",
    "import ipywidgets as widgets\n",
    "\n",
    "ignition = widgets.ToggleButton(\n",
    "    value=False,\n",
    "    description='Iniciar Launch',\n",
    "    button_style='success',\n",
    "    tooltip='Engage your Launch',\n",
    "    icon='rocket'\n",
    ")\n",
    "\n",
    "output = widgets.Output()\n",
    "\n",
    "display(ignition, output)\n",
    "\n",
    "def on_value_change(change):\n",
    "    with output:\n",
    "        if change['new'] == True:\n",
    "            print(\"Nave Iniciada!\")\n",
    "        else:   \n",
    "            print(\"Nave Detenida\")\n",
    "\n",
    "ignition.observe(on_value_change, names='value')"
   ]
  },
  {
   "cell_type": "markdown",
   "metadata": {},
   "source": [
    "Ejercicio 2"
   ]
  },
  {
   "cell_type": "markdown",
   "metadata": {},
   "source": [
    "Usar comandos avanzados "
   ]
  },
  {
   "cell_type": "code",
   "execution_count": null,
   "metadata": {},
   "outputs": [],
   "source": [
    "!pip install matplotlib\n",
    "!pip install numpy"
   ]
  },
  {
   "cell_type": "markdown",
   "metadata": {},
   "source": [
    "Niveles de oxigno"
   ]
  },
  {
   "cell_type": "code",
   "execution_count": null,
   "metadata": {},
   "outputs": [],
   "source": [
    "import numpy as np\n",
    "import matplotlib.pyplot as plt\n",
    "data = np.random.default_rng(12345)\n",
    "oxy_nums = data.integers(low=0, high=10, size=10)\n",
    "\n",
    "plt.bar(range(len(oxy_nums)), oxy_nums)\n",
    "plt.show()"
   ]
  }
 ],
 "metadata": {
  "interpreter": {
   "hash": "17af53843ba9c57751d71de7a9b06d6ca0b05744b6a8382ac52b67b2873fa758"
  },
  "kernelspec": {
   "display_name": "Python 3.9.10 64-bit (windows store)",
   "language": "python",
   "name": "python3"
  },
  "language_info": {
   "codemirror_mode": {
    "name": "ipython",
    "version": 3
   },
   "file_extension": ".py",
   "mimetype": "text/x-python",
   "name": "python",
   "nbconvert_exporter": "python",
   "pygments_lexer": "ipython3",
   "version": "3.9.10"
  },
  "orig_nbformat": 4
 },
 "nbformat": 4,
 "nbformat_minor": 2
}
