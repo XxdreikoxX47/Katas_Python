{
 "cells": [
  {
   "cell_type": "markdown",
   "metadata": {},
   "source": [
    "Trasnformar cadenas "
   ]
  },
  {
   "cell_type": "markdown",
   "metadata": {},
   "source": [
    "Primer ejercicio:  "
   ]
  },
  {
   "cell_type": "code",
   "execution_count": null,
   "metadata": {},
   "outputs": [],
   "source": [
    "text = \"\"\"Interesting facts about the Moon. The Moon is Earth's only satellite. There are several interesting facts about the Moon and how it affects life here on Earth. \n",
    "On average, the Moon moves 4cm away from the Earth every year. This yearly drift is not significant enough to cause immediate effects on Earth. The highest daylight temperature of the Moon is 127 C.\"\"\"\n",
    "two_text = text\n",
    "two_text = text.split('. ')\n",
    "\n",
    "key_words= [\"averange\", \"temperature\", \"distance\"]\n",
    "\n",
    "for tren in two_text:\n",
    "    for key_words in key_words:\n",
    "        if key_words in tren:\n",
    "            print(tren)\n",
    "            break\n",
    "\n",
    "for tren in two_text:\n",
    "    for key_word in key_words:\n",
    "        if key_word in tren:\n",
    "            print(tren.replace(' C', ' Celsius'))\n",
    "            break"
   ]
  },
  {
   "cell_type": "markdown",
   "metadata": {},
   "source": [
    "Ejercicio 2\n"
   ]
  },
  {
   "cell_type": "code",
   "execution_count": 25,
   "metadata": {},
   "outputs": [
    {
     "name": "stdout",
     "output_type": "stream",
     "text": [
      "Gravity Facts About Ganymede \n",
      "----------------------------------------------------------------------------------------------------\n",
      "Nombre del planeta: Earth\n",
      "Gravedad en Moon: 1.6199999999999999 \n",
      "\n",
      "----------------------------------------------------------------------------------------------------\n",
      "Nombre del planeta: Marte \n",
      "Gravedad en Ganímedes: 1.4300000000000002\n"
     ]
    }
   ],
   "source": [
    "name = \"Moon\"\n",
    "gravity = 0.00162 # in kms\n",
    "planet = \"Earth\"\n",
    "\n",
    "subject = \"Gravity Facts about Ganymede\"\n",
    "f'{subject.title()}'\n",
    "\n",
    "data = f\"\"\"{\"-\"*100}\n",
    "Nombre del planeta: {planet}\n",
    "Gravedad en {name}: {gravity*1000}\"\"\"\n",
    "\n",
    "data = f\"\"\"{subject.title()} \n",
    "{data} \n",
    "\"\"\" \n",
    "print(data)\n",
    "\n",
    "\n",
    "planeta = 'Marte '\n",
    "gravedad  = 0.00143\n",
    "nombre = 'Ganímedes'\n",
    "\n",
    "subject_two = \"Mars\"\n",
    "f'{subject_two.title()}'\n",
    "\n",
    "two_data = f\"\"\"{\"-\"*100}\n",
    "Nombre del planeta: {planeta}\n",
    "Gravedad en {nombre}: {gravedad*1000}\"\"\"\n",
    "\n",
    "print(two_data.format(name=nombre, planet=planeta, gravity=gravedad*1000))\n"
   ]
  }
 ],
 "metadata": {
  "interpreter": {
   "hash": "defcd3ea546e3c7826e77f68eb8dd98b7c9af5e3814c9109b1c0af9fedb8d3ed"
  },
  "kernelspec": {
   "display_name": "Python 3.10.2 64-bit",
   "language": "python",
   "name": "python3"
  },
  "language_info": {
   "codemirror_mode": {
    "name": "ipython",
    "version": 3
   },
   "file_extension": ".py",
   "mimetype": "text/x-python",
   "name": "python",
   "nbconvert_exporter": "python",
   "pygments_lexer": "ipython3",
   "version": "3.10.2"
  },
  "orig_nbformat": 4
 },
 "nbformat": 4,
 "nbformat_minor": 2
}
