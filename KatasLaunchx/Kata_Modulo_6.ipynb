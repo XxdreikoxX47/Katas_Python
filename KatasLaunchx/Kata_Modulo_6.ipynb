{
 "cells": [
  {
   "cell_type": "markdown",
   "metadata": {},
   "source": [
    "Ejercicio 1"
   ]
  },
  {
   "cell_type": "markdown",
   "metadata": {},
   "source": [
    "Crear y usar listas de python."
   ]
  },
  {
   "cell_type": "code",
   "execution_count": 23,
   "metadata": {},
   "outputs": [
    {
     "name": "stdout",
     "output_type": "stream",
     "text": [
      "Son 8 planetas que hay en el sistema solar.\n",
      "\n",
      "Considerando a Pluton, tenemos un total de 9 Planetas, siendo Pluton el ultimo planeta.\n"
     ]
    }
   ],
   "source": [
    "Planets = ['Mercury', 'Venus', 'Earth', 'Mars', 'Jupiter', 'Saturn', 'Uranus', 'Neptune']\n",
    "numero_de_planetas = len(Planets)\n",
    "print('Son',numero_de_planetas, 'planetas que hay en el sistema solar.\\n')\n",
    "\n",
    "Planets.append('Pluton')\n",
    "numero_de_planetas = len(Planets)\n",
    "print('Considerando a Pluton, tenemos un total de',numero_de_planetas, 'Planetas, siendo', Planets[-1], 'el ultimo planeta.')\n",
    "print('Gracias por usar este programa c:')"
   ]
  },
  {
   "cell_type": "markdown",
   "metadata": {},
   "source": [
    "Ejercicio 2"
   ]
  },
  {
   "cell_type": "markdown",
   "metadata": {},
   "source": [
    "Trabajando con datos de una lista."
   ]
  },
  {
   "cell_type": "code",
   "execution_count": 24,
   "metadata": {},
   "outputs": [
    {
     "name": "stdout",
     "output_type": "stream",
     "text": [
      "Estos son los planetas mas cercanos antes de Saturn\n",
      "['Mercury', 'Venus', 'Earth', 'Mars', 'Jupiter']\n",
      "Gracias por usar este programa c:\n"
     ]
    }
   ],
   "source": [
    "planets = ['Mercury', 'Venus', 'Earth', 'Mars', 'Jupiter', 'Saturn', 'Neptune']\n",
    "planet_1=input('Introduzca el nombre del planeta que desea \"Por favor utilize Mayuscula al inicio del nombre\": ')\n",
    "\n",
    "Buscar= planets.index(planet_1)\n",
    "\n",
    "print('Estos son los planetas mas cercanos antes de ' + planet_1)\n",
    "print (planets[0:Buscar])\n",
    "print('Gracias por usar este programa c:')"
   ]
  }
 ],
 "metadata": {
  "interpreter": {
   "hash": "defcd3ea546e3c7826e77f68eb8dd98b7c9af5e3814c9109b1c0af9fedb8d3ed"
  },
  "kernelspec": {
   "display_name": "Python 3.10.2 64-bit",
   "language": "python",
   "name": "python3"
  },
  "language_info": {
   "codemirror_mode": {
    "name": "ipython",
    "version": 3
   },
   "file_extension": ".py",
   "mimetype": "text/x-python",
   "name": "python",
   "nbconvert_exporter": "python",
   "pygments_lexer": "ipython3",
   "version": "3.10.2"
  },
  "orig_nbformat": 4
 },
 "nbformat": 4,
 "nbformat_minor": 2
}
