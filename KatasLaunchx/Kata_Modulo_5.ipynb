{
 "cells": [
  {
   "cell_type": "markdown",
   "metadata": {},
   "source": [
    "Ejercicio 1"
   ]
  },
  {
   "cell_type": "markdown",
   "metadata": {},
   "source": []
  },
  {
   "cell_type": "code",
   "execution_count": null,
   "metadata": {},
   "outputs": [],
   "source": [
    "print(\"Distancias \\n\")\n",
    "\n",
    "Tierra = 149597870 \n",
    "Júpiter = 778547200\n",
    "\n",
    "Dis = Júpiter - Tierra\n",
    "\n",
    "Dis_2 = Dis*0.621\n",
    "print(Dis)\n",
    "print(abs(Dis_2))\n"
   ]
  },
  {
   "cell_type": "markdown",
   "metadata": {},
   "source": [
    "Ejercicio 2\n"
   ]
  },
  {
   "cell_type": "code",
   "execution_count": null,
   "metadata": {},
   "outputs": [],
   "source": [
    "print(\"Bienvenido a la calculadora interestalar\")\n",
    "planet_1=input(\"Introduzca la distamcia del sol al planeta que dese\")\n",
    "planet_2=input(\"Introduzca la distamcia del sol al  segundo planeta que desea\")\n",
    "\n",
    "\n",
    "\n",
    "planet_1=int(planet_1)\n",
    "planet_2=int(planet_2)\n",
    "\n",
    "rest = planet_1 - planet_2\n",
    "print(\"Distancia en kilometros entre los dos planetas\")\n",
    "print(abs(rest))\n",
    "\n",
    "rest_KM= rest*0.621\n",
    "print(\"Distancia en millas\")\n",
    "print(abs(rest_KM))\n",
    "\n"
   ]
  }
 ],
 "metadata": {
  "interpreter": {
   "hash": "defcd3ea546e3c7826e77f68eb8dd98b7c9af5e3814c9109b1c0af9fedb8d3ed"
  },
  "kernelspec": {
   "display_name": "Python 3.10.2 64-bit",
   "language": "python",
   "name": "python3"
  },
  "language_info": {
   "codemirror_mode": {
    "name": "ipython",
    "version": 3
   },
   "file_extension": ".py",
   "mimetype": "text/x-python",
   "name": "python",
   "nbconvert_exporter": "python",
   "pygments_lexer": "ipython3",
   "version": "3.10.2"
  },
  "orig_nbformat": 4
 },
 "nbformat": 4,
 "nbformat_minor": 2
}
